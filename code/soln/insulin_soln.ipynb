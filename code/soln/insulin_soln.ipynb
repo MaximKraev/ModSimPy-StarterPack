{
 "cells": [
  {
   "cell_type": "markdown",
   "metadata": {},
   "source": [
    "# Modeling and Simulation in Python\n",
    "\n",
    "Insulin minimal model\n",
    "\n",
    "Copyright 2017 Allen Downey\n",
    "\n",
    "License: [Creative Commons Attribution 4.0 International](https://creativecommons.org/licenses/by/4.0)\n"
   ]
  },
  {
   "cell_type": "code",
   "execution_count": 1,
   "metadata": {
    "collapsed": true
   },
   "outputs": [],
   "source": [
    "# Configure Jupyter so figures appear in the notebook\n",
    "%matplotlib inline\n",
    "\n",
    "# Configure Jupyter to display the assigned value after an assignment\n",
    "%config InteractiveShell.ast_node_interactivity='last_expr_or_assign'\n",
    "\n",
    "# import functions from the modsim.py module\n",
    "from modsim import *"
   ]
  },
  {
   "cell_type": "markdown",
   "metadata": {},
   "source": [
    "### Data\n",
    "\n",
    "We have data from Pacini and Bergman (1986), \"MINMOD: a computer program to calculate insulin sensitivity and pancreatic responsivity from the frequently sampled intravenous glucose tolerance test\", *Computer Methods and Programs in Biomedicine*, 23: 113-122.."
   ]
  },
  {
   "cell_type": "code",
   "execution_count": 2,
   "metadata": {},
   "outputs": [],
   "source": [
    "data = pd.read_csv('data/glucose_insulin.csv', index_col='time');"
   ]
  },
  {
   "cell_type": "markdown",
   "metadata": {},
   "source": [
    "The return value from `interpolate` is a function."
   ]
  },
  {
   "cell_type": "markdown",
   "metadata": {},
   "source": [
    "### The insulin minimal model\n",
    "\n",
    "In addition to the glucose minimal mode, Pacini and Bergman present an insulin minimal model, in which the concentration of insulin, $I$, is governed by this differential equation:\n",
    "\n",
    "$ \\frac{dI}{dt} = -k I(t) + \\gamma (G(t) - G_T) t $"
   ]
  },
  {
   "cell_type": "markdown",
   "metadata": {},
   "source": [
    "**Exercise:**  Write a version of `make_system` that takes the parameters of this model, `I0`, `k`, `gamma`, and `G_T` as parameters, along with a `DataFrame` containing the measurements, and returns a `System` object suitable for use with `run_simulation` or `run_odeint`.\n",
    "\n",
    "Use it to make a `System` object with the following parameters:"
   ]
  },
  {
   "cell_type": "code",
   "execution_count": 23,
   "metadata": {
    "collapsed": true
   },
   "outputs": [
    {
     "data": {
      "text/html": [
       "<div>\n",
       "<style scoped>\n",
       "    .dataframe tbody tr th:only-of-type {\n",
       "        vertical-align: middle;\n",
       "    }\n",
       "\n",
       "    .dataframe tbody tr th {\n",
       "        vertical-align: top;\n",
       "    }\n",
       "\n",
       "    .dataframe thead th {\n",
       "        text-align: right;\n",
       "    }\n",
       "</style>\n",
       "<table border=\"1\" class=\"dataframe\">\n",
       "  <thead>\n",
       "    <tr style=\"text-align: right;\">\n",
       "      <th></th>\n",
       "      <th>values</th>\n",
       "    </tr>\n",
       "  </thead>\n",
       "  <tbody>\n",
       "    <tr>\n",
       "      <th>I0</th>\n",
       "      <td>360.000</td>\n",
       "    </tr>\n",
       "    <tr>\n",
       "      <th>k</th>\n",
       "      <td>0.250</td>\n",
       "    </tr>\n",
       "    <tr>\n",
       "      <th>gamma</th>\n",
       "      <td>0.004</td>\n",
       "    </tr>\n",
       "    <tr>\n",
       "      <th>G_T</th>\n",
       "      <td>80.000</td>\n",
       "    </tr>\n",
       "  </tbody>\n",
       "</table>\n",
       "</div>"
      ],
      "text/plain": [
       "I0       360.000\n",
       "k          0.250\n",
       "gamma      0.004\n",
       "G_T       80.000\n",
       "dtype: float64"
      ]
     },
     "execution_count": 23,
     "metadata": {},
     "output_type": "execute_result"
    }
   ],
   "source": [
    "params = Params(I0 = 360,\n",
    "                k = 0.25,\n",
    "                gamma = 0.004,\n",
    "                G_T = 80)"
   ]
  },
  {
   "cell_type": "code",
   "execution_count": 24,
   "metadata": {
    "collapsed": true
   },
   "outputs": [],
   "source": [
    "# Solution\n",
    "\n",
    "def make_system(params, data):\n",
    "    I0, k, gamma, G_T = params\n",
    "    init = State(I=I0)\n",
    "    \n",
    "    t_0 = get_first_label(data)\n",
    "    t_end = get_last_label(data)\n",
    "\n",
    "    system = System(k=k, gamma=gamma, G_T=G_T,\n",
    "                    init=init, t_0=t_0, t_end=t_end,\n",
    "                    G=interpolate(data.glucose))\n",
    "\n",
    "    return system"
   ]
  },
  {
   "cell_type": "code",
   "execution_count": 25,
   "metadata": {
    "collapsed": true
   },
   "outputs": [
    {
     "data": {
      "text/html": [
       "<div>\n",
       "<style scoped>\n",
       "    .dataframe tbody tr th:only-of-type {\n",
       "        vertical-align: middle;\n",
       "    }\n",
       "\n",
       "    .dataframe tbody tr th {\n",
       "        vertical-align: top;\n",
       "    }\n",
       "\n",
       "    .dataframe thead th {\n",
       "        text-align: right;\n",
       "    }\n",
       "</style>\n",
       "<table border=\"1\" class=\"dataframe\">\n",
       "  <thead>\n",
       "    <tr style=\"text-align: right;\">\n",
       "      <th></th>\n",
       "      <th>values</th>\n",
       "    </tr>\n",
       "  </thead>\n",
       "  <tbody>\n",
       "    <tr>\n",
       "      <th>k</th>\n",
       "      <td>0.25</td>\n",
       "    </tr>\n",
       "    <tr>\n",
       "      <th>gamma</th>\n",
       "      <td>0.004</td>\n",
       "    </tr>\n",
       "    <tr>\n",
       "      <th>G_T</th>\n",
       "      <td>80</td>\n",
       "    </tr>\n",
       "    <tr>\n",
       "      <th>init</th>\n",
       "      <td>I    360.0\n",
       "dtype: float64</td>\n",
       "    </tr>\n",
       "    <tr>\n",
       "      <th>t_0</th>\n",
       "      <td>0</td>\n",
       "    </tr>\n",
       "    <tr>\n",
       "      <th>t_end</th>\n",
       "      <td>182</td>\n",
       "    </tr>\n",
       "    <tr>\n",
       "      <th>G</th>\n",
       "      <td>&lt;scipy.interpolate.interpolate.interp1d object...</td>\n",
       "    </tr>\n",
       "  </tbody>\n",
       "</table>\n",
       "</div>"
      ],
      "text/plain": [
       "k                                                     0.25\n",
       "gamma                                                0.004\n",
       "G_T                                                     80\n",
       "init                             I    360.0\n",
       "dtype: float64\n",
       "t_0                                                      0\n",
       "t_end                                                  182\n",
       "G        <scipy.interpolate.interpolate.interp1d object...\n",
       "dtype: object"
      ]
     },
     "execution_count": 25,
     "metadata": {},
     "output_type": "execute_result"
    }
   ],
   "source": [
    "# Solution\n",
    "\n",
    "system = make_system(params, data)"
   ]
  },
  {
   "cell_type": "markdown",
   "metadata": {},
   "source": [
    "**Exercise:** Write a slope function that takes state, t, system as parameters and returns the derivative of `I` with respect to time.  Test your function with the initial condition $I(0)=360$."
   ]
  },
  {
   "cell_type": "code",
   "execution_count": 26,
   "metadata": {
    "collapsed": true
   },
   "outputs": [],
   "source": [
    "# Solution\n",
    "\n",
    "def slope_func(state, t, system):\n",
    "    I = state\n",
    "    unpack(system)\n",
    "    \n",
    "    dIdt = - k * I + gamma * (G(t) - G_T) * t\n",
    "    \n",
    "    return dIdt"
   ]
  },
  {
   "cell_type": "code",
   "execution_count": 27,
   "metadata": {},
   "outputs": [
    {
     "data": {
      "text/plain": [
       "I   -90.0\n",
       "dtype: float64"
      ]
     },
     "execution_count": 27,
     "metadata": {},
     "output_type": "execute_result"
    }
   ],
   "source": [
    "# Solution\n",
    "\n",
    "slope_func(system.init, system.t_0, system)"
   ]
  },
  {
   "cell_type": "markdown",
   "metadata": {},
   "source": [
    "**Exercise:** Run `run_odeint` with your `System` object and slope function, and plot the results, along with the measured insulin levels."
   ]
  },
  {
   "cell_type": "code",
   "execution_count": 28,
   "metadata": {},
   "outputs": [
    {
     "data": {
      "text/html": [
       "<div>\n",
       "<style scoped>\n",
       "    .dataframe tbody tr th:only-of-type {\n",
       "        vertical-align: middle;\n",
       "    }\n",
       "\n",
       "    .dataframe tbody tr th {\n",
       "        vertical-align: top;\n",
       "    }\n",
       "\n",
       "    .dataframe thead th {\n",
       "        text-align: right;\n",
       "    }\n",
       "</style>\n",
       "<table border=\"1\" class=\"dataframe\">\n",
       "  <thead>\n",
       "    <tr style=\"text-align: right;\">\n",
       "      <th></th>\n",
       "      <th>values</th>\n",
       "    </tr>\n",
       "  </thead>\n",
       "  <tbody>\n",
       "    <tr>\n",
       "      <th>sol</th>\n",
       "      <td>None</td>\n",
       "    </tr>\n",
       "    <tr>\n",
       "      <th>t_events</th>\n",
       "      <td>[]</td>\n",
       "    </tr>\n",
       "    <tr>\n",
       "      <th>nfev</th>\n",
       "      <td>314</td>\n",
       "    </tr>\n",
       "    <tr>\n",
       "      <th>njev</th>\n",
       "      <td>0</td>\n",
       "    </tr>\n",
       "    <tr>\n",
       "      <th>nlu</th>\n",
       "      <td>0</td>\n",
       "    </tr>\n",
       "    <tr>\n",
       "      <th>status</th>\n",
       "      <td>0</td>\n",
       "    </tr>\n",
       "    <tr>\n",
       "      <th>message</th>\n",
       "      <td>The solver successfully reached the end of the...</td>\n",
       "    </tr>\n",
       "    <tr>\n",
       "      <th>success</th>\n",
       "      <td>True</td>\n",
       "    </tr>\n",
       "  </tbody>\n",
       "</table>\n",
       "</div>"
      ],
      "text/plain": [
       "sol                                                      None\n",
       "t_events                                                   []\n",
       "nfev                                                      314\n",
       "njev                                                        0\n",
       "nlu                                                         0\n",
       "status                                                      0\n",
       "message     The solver successfully reached the end of the...\n",
       "success                                                  True\n",
       "dtype: object"
      ]
     },
     "execution_count": 28,
     "metadata": {},
     "output_type": "execute_result"
    }
   ],
   "source": [
    "# Solution\n",
    "\n",
    "results, details = run_ode_solver(system, slope_func, t_eval=data.index)\n",
    "details"
   ]
  },
  {
   "cell_type": "code",
   "execution_count": 29,
   "metadata": {},
   "outputs": [
    {
     "data": {
      "image/png": "[encoded data removed]",
      "text/plain": [
       "<Figure size 432x288 with 1 Axes>"
      ]
     },
     "metadata": {},
     "output_type": "display_data"
    }
   ],
   "source": [
    "# Solution\n",
    "\n",
    "plot(results, 'g-', label='simulation')\n",
    "plot(data.insulin, 'go', label='insulin data')\n",
    "\n",
    "decorate(xlabel='Time (min)',\n",
    "         ylabel='Concentration ($\\mu$U/mL)')"
   ]
  },
  {
   "cell_type": "markdown",
   "metadata": {},
   "source": [
    "**Exercise:**  Write an error function that takes a sequence of parameters as an argument, along with the `DataFrame` containing the measurements.  It should make a `System` object with the given parameters, run it, and compute the difference between the results of the simulation and the measured values.  Test your error function by calling it with the parameters from the previous exercise.\n",
    "\n",
    "Hint: As we did in a previous exercise, you might want to drop the errors for times prior to `t=8`."
   ]
  },
  {
   "cell_type": "code",
   "execution_count": 30,
   "metadata": {
    "collapsed": true
   },
   "outputs": [],
   "source": [
    "# Solution\n",
    "\n",
    "def error_func(params, data):\n",
    "    \"\"\"Computes an array of errors to be minimized.\n",
    "    \n",
    "    params: sequence of parameters\n",
    "    actual: array of values to be matched\n",
    "    \n",
    "    returns: array of errors\n",
    "    \"\"\"\n",
    "    print(params)\n",
    "    \n",
    "    # make a System with the given parameters\n",
    "    system = make_system(params, data)\n",
    "\n",
    "    # solve the ODE\n",
    "    results, details = run_ode_solver(system, slope_func, t_eval=data.index)\n",
    "\n",
    "    # compute the difference between the model\n",
    "    # results and actual data\n",
    "    errors = results.I - data.insulin\n",
    "    return TimeSeries(errors.loc[8:])"
   ]
  },
  {
   "cell_type": "code",
   "execution_count": 31,
   "metadata": {},
   "outputs": [
    {
     "name": "stdout",
     "output_type": "stream",
     "text": [
      "I0       360.000\n",
      "k          0.250\n",
      "gamma      0.004\n",
      "G_T       80.000\n",
      "dtype: float64\n",
      "0.004\n"
     ]
    },
    {
     "data": {
      "text/html": [
       "<div>\n",
       "<style scoped>\n",
       "    .dataframe tbody tr th:only-of-type {\n",
       "        vertical-align: middle;\n",
       "    }\n",
       "\n",
       "    .dataframe tbody tr th {\n",
       "        vertical-align: top;\n",
       "    }\n",
       "\n",
       "    .dataframe thead th {\n",
       "        text-align: right;\n",
       "    }\n",
       "</style>\n",
       "<table border=\"1\" class=\"dataframe\">\n",
       "  <thead>\n",
       "    <tr style=\"text-align: right;\">\n",
       "      <th></th>\n",
       "      <th>values</th>\n",
       "    </tr>\n",
       "  </thead>\n",
       "  <tbody>\n",
       "    <tr>\n",
       "      <th>8</th>\n",
       "      <td>10.679284</td>\n",
       "    </tr>\n",
       "    <tr>\n",
       "      <th>10</th>\n",
       "      <td>-3.230156</td>\n",
       "    </tr>\n",
       "    <tr>\n",
       "      <th>12</th>\n",
       "      <td>-7.936756</td>\n",
       "    </tr>\n",
       "    <tr>\n",
       "      <th>14</th>\n",
       "      <td>-8.007716</td>\n",
       "    </tr>\n",
       "    <tr>\n",
       "      <th>16</th>\n",
       "      <td>-3.570965</td>\n",
       "    </tr>\n",
       "    <tr>\n",
       "      <th>19</th>\n",
       "      <td>1.815372</td>\n",
       "    </tr>\n",
       "    <tr>\n",
       "      <th>22</th>\n",
       "      <td>2.570822</td>\n",
       "    </tr>\n",
       "    <tr>\n",
       "      <th>27</th>\n",
       "      <td>7.101640</td>\n",
       "    </tr>\n",
       "    <tr>\n",
       "      <th>32</th>\n",
       "      <td>3.815164</td>\n",
       "    </tr>\n",
       "    <tr>\n",
       "      <th>42</th>\n",
       "      <td>8.932695</td>\n",
       "    </tr>\n",
       "    <tr>\n",
       "      <th>52</th>\n",
       "      <td>9.598985</td>\n",
       "    </tr>\n",
       "    <tr>\n",
       "      <th>62</th>\n",
       "      <td>0.776848</td>\n",
       "    </tr>\n",
       "    <tr>\n",
       "      <th>72</th>\n",
       "      <td>-3.215782</td>\n",
       "    </tr>\n",
       "    <tr>\n",
       "      <th>82</th>\n",
       "      <td>-10.348094</td>\n",
       "    </tr>\n",
       "    <tr>\n",
       "      <th>92</th>\n",
       "      <td>-7.387625</td>\n",
       "    </tr>\n",
       "    <tr>\n",
       "      <th>102</th>\n",
       "      <td>-9.052108</td>\n",
       "    </tr>\n",
       "    <tr>\n",
       "      <th>122</th>\n",
       "      <td>-3.578155</td>\n",
       "    </tr>\n",
       "    <tr>\n",
       "      <th>142</th>\n",
       "      <td>-3.580564</td>\n",
       "    </tr>\n",
       "    <tr>\n",
       "      <th>162</th>\n",
       "      <td>3.157260</td>\n",
       "    </tr>\n",
       "    <tr>\n",
       "      <th>182</th>\n",
       "      <td>18.705778</td>\n",
       "    </tr>\n",
       "  </tbody>\n",
       "</table>\n",
       "</div>"
      ],
      "text/plain": [
       "8      10.679284\n",
       "10     -3.230156\n",
       "12     -7.936756\n",
       "14     -8.007716\n",
       "16     -3.570965\n",
       "19      1.815372\n",
       "22      2.570822\n",
       "27      7.101640\n",
       "32      3.815164\n",
       "42      8.932695\n",
       "52      9.598985\n",
       "62      0.776848\n",
       "72     -3.215782\n",
       "82    -10.348094\n",
       "92     -7.387625\n",
       "102    -9.052108\n",
       "122    -3.578155\n",
       "142    -3.580564\n",
       "162     3.157260\n",
       "182    18.705778\n",
       "dtype: float64"
      ]
     },
     "execution_count": 31,
     "metadata": {},
     "output_type": "execute_result"
    }
   ],
   "source": [
    "# Solution\n",
    "\n",
    "error_func(params, data)"
   ]
  },
  {
   "cell_type": "markdown",
   "metadata": {},
   "source": [
    "**Exercise:** Use `fit_leastsq` to find the parameters that best fit the data.  Make a `System` object with those parameters, run it, and plot the results along with the measurements."
   ]
  },
  {
   "cell_type": "code",
   "execution_count": 32,
   "metadata": {},
   "outputs": [
    {
     "name": "stdout",
     "output_type": "stream",
     "text": [
      "[3.6e+02 2.5e-01 4.0e-03 8.0e+01]\n",
      "0.004\n",
      "[3.6e+02 2.5e-01 4.0e-03 8.0e+01]\n",
      "0.004\n",
      "[3.6e+02 2.5e-01 4.0e-03 8.0e+01]\n",
      "0.004\n",
      "[3.60000005e+02 2.50000000e-01 4.00000000e-03 8.00000000e+01]\n",
      "0.004\n",
      "[3.60000000e+02 2.50000004e-01 4.00000000e-03 8.00000000e+01]\n",
      "0.004\n",
      "[3.60000000e+02 2.50000000e-01 4.00000006e-03 8.00000000e+01]\n",
      "0.004000000059604645\n",
      "[3.60000000e+02 2.50000000e-01 4.00000000e-03 8.00000012e+01]\n",
      "0.004\n",
      "[3.22633290e+02 2.49583030e-01 3.78613755e-03 8.06552415e+01]\n",
      "0.0037861375546497547\n",
      "[3.22633295e+02 2.49583030e-01 3.78613755e-03 8.06552415e+01]\n",
      "0.0037861375546497547\n",
      "[3.22633290e+02 2.49583034e-01 3.78613755e-03 8.06552415e+01]\n",
      "0.0037861375546497547\n",
      "[3.22633290e+02 2.49583030e-01 3.78613761e-03 8.06552415e+01]\n",
      "0.0037861376110676008\n",
      "[3.22633290e+02 2.49583030e-01 3.78613755e-03 8.06552427e+01]\n",
      "0.0037861375546497547\n",
      "[3.08623795e+02 2.49614641e-01 3.97466190e-03 8.00584655e+01]\n",
      "0.003974661900713563\n",
      "[3.08623795e+02 2.49614641e-01 3.97466190e-03 8.00584655e+01]\n",
      "0.003974661900713563\n",
      "[3.19566993e+02 2.49611490e-01 3.88853846e-03 8.03632613e+01]\n",
      "0.003888538463235548\n",
      "[3.23708229e+02 2.49609012e-01 3.81722890e-03 8.05362319e+01]\n",
      "0.0038172289044133196\n",
      "[3.24030778e+02 2.49601708e-01 3.77475245e-03 8.06261820e+01]\n",
      "0.003774752445521001\n",
      "[3.24030783e+02 2.49601708e-01 3.77475245e-03 8.06261820e+01]\n",
      "0.003774752445521001\n",
      "[3.24030778e+02 2.49601712e-01 3.77475245e-03 8.06261820e+01]\n",
      "0.003774752445521001\n",
      "[3.24030778e+02 2.49601708e-01 3.77475250e-03 8.06261820e+01]\n",
      "0.0037747525017691953\n",
      "[3.24030778e+02 2.49601708e-01 3.77475245e-03 8.06261832e+01]\n",
      "0.003774752445521001\n",
      "[3.25854440e+02 2.49601794e-01 3.75658463e-03 8.06140853e+01]\n",
      "0.003756584627895631\n",
      "[3.25854445e+02 2.49601794e-01 3.75658463e-03 8.06140853e+01]\n",
      "0.003756584627895631\n",
      "[3.25854440e+02 2.49601797e-01 3.75658463e-03 8.06140853e+01]\n",
      "0.003756584627895631\n",
      "[3.25854440e+02 2.49601794e-01 3.75658468e-03 8.06140853e+01]\n",
      "0.0037565846838731043\n",
      "[3.25854440e+02 2.49601794e-01 3.75658463e-03 8.06140865e+01]\n",
      "0.003756584627895631\n",
      "[3.27642608e+02 2.49603500e-01 3.74263717e-03 8.05986043e+01]\n",
      "0.0037426371711465783\n",
      "[3.27642612e+02 2.49603500e-01 3.74263717e-03 8.05986043e+01]\n",
      "0.0037426371711465783\n",
      "[3.27642608e+02 2.49603503e-01 3.74263717e-03 8.05986043e+01]\n",
      "0.0037426371711465783\n",
      "[3.27642608e+02 2.49603500e-01 3.74263723e-03 8.05986043e+01]\n",
      "0.003742637226916218\n",
      "[3.27642608e+02 2.49603500e-01 3.74263717e-03 8.05986055e+01]\n",
      "0.0037426371711465783\n",
      "[3.26863109e+02 2.49605667e-01 3.75078997e-03 8.06057216e+01]\n",
      "0.0037507899652441997\n",
      "[3.27304683e+02 2.49604337e-01 3.74623093e-03 8.06014527e+01]\n",
      "0.003746230928198438\n",
      "[3.27506605e+02 2.49603828e-01 3.74408894e-03 8.05997299e+01]\n",
      "0.0037440889413235053\n",
      "[3.27592938e+02 2.49603618e-01 3.74316805e-03 8.05990128e+01]\n",
      "0.0037431680460104726\n",
      "[3.27626784e+02 2.49603537e-01 3.74280637e-03 8.05987341e+01]\n",
      "0.003742806372191441\n",
      "[3.27626789e+02 2.49603537e-01 3.74280637e-03 8.05987341e+01]\n",
      "0.003742806372191441\n",
      "[3.27626784e+02 2.49603541e-01 3.74280637e-03 8.05987341e+01]\n",
      "0.003742806372191441\n",
      "[3.27626784e+02 2.49603537e-01 3.74280643e-03 8.05987341e+01]\n",
      "0.003742806427963602\n",
      "[3.27626784e+02 2.49603537e-01 3.74280637e-03 8.05987353e+01]\n",
      "0.003742806372191441\n",
      "[3.27641682e+02 2.49603506e-01 3.74264454e-03 8.05986372e+01]\n",
      "0.0037426445409151523\n",
      "[3.27633912e+02 2.49603523e-01 3.74272894e-03 8.05986878e+01]\n",
      "0.0037427289405274843\n",
      "[3.27633917e+02 2.49603523e-01 3.74272894e-03 8.05986878e+01]\n",
      "0.0037427289405274843\n",
      "[3.27633912e+02 2.49603526e-01 3.74272894e-03 8.05986878e+01]\n",
      "0.0037427289405274843\n",
      "[3.27633912e+02 2.49603523e-01 3.74272900e-03 8.05986878e+01]\n",
      "0.0037427289962984915\n",
      "[3.27633912e+02 2.49603523e-01 3.74272894e-03 8.05986890e+01]\n",
      "0.0037427289405274843\n",
      "[3.27637457e+02 2.49603517e-01 3.74269029e-03 8.05986633e+01]\n",
      "0.0037426902940512164\n",
      "[3.27634917e+02 2.49603521e-01 3.74271799e-03 8.05986808e+01]\n",
      "0.003742717987843228\n",
      "[3.27634922e+02 2.49603521e-01 3.74271799e-03 8.05986808e+01]\n",
      "0.003742717987843228\n",
      "[3.27634917e+02 2.49603525e-01 3.74271799e-03 8.05986808e+01]\n",
      "0.003742717987843228\n",
      "[3.27634917e+02 2.49603521e-01 3.74271804e-03 8.05986808e+01]\n",
      "0.003742718043614072\n",
      "[3.27634917e+02 2.49603521e-01 3.74271799e-03 8.05986820e+01]\n",
      "0.003742717987843228\n",
      "[3.27636818e+02 2.49603516e-01 3.74269717e-03 8.05986672e+01]\n",
      "0.0037426971697977706\n",
      "The relative error between two consecutive iterates is at most 0.000000\n"
     ]
    }
   ],
   "source": [
    "# Solution\n",
    "\n",
    "best_params, details = fit_leastsq(error_func, params, data)\n",
    "print(details.mesg)"
   ]
  },
  {
   "cell_type": "code",
   "execution_count": null,
   "metadata": {},
   "outputs": [],
   "source": []
  },
  {
   "cell_type": "code",
   "execution_count": 33,
   "metadata": {
    "collapsed": true
   },
   "outputs": [
    {
     "data": {
      "text/html": [
       "<div>\n",
       "<style scoped>\n",
       "    .dataframe tbody tr th:only-of-type {\n",
       "        vertical-align: middle;\n",
       "    }\n",
       "\n",
       "    .dataframe tbody tr th {\n",
       "        vertical-align: top;\n",
       "    }\n",
       "\n",
       "    .dataframe thead th {\n",
       "        text-align: right;\n",
       "    }\n",
       "</style>\n",
       "<table border=\"1\" class=\"dataframe\">\n",
       "  <thead>\n",
       "    <tr style=\"text-align: right;\">\n",
       "      <th></th>\n",
       "      <th>values</th>\n",
       "    </tr>\n",
       "  </thead>\n",
       "  <tbody>\n",
       "    <tr>\n",
       "      <th>k</th>\n",
       "      <td>0.249604</td>\n",
       "    </tr>\n",
       "    <tr>\n",
       "      <th>gamma</th>\n",
       "      <td>0.00374272</td>\n",
       "    </tr>\n",
       "    <tr>\n",
       "      <th>G_T</th>\n",
       "      <td>80.5987</td>\n",
       "    </tr>\n",
       "    <tr>\n",
       "      <th>init</th>\n",
       "      <td>I    327.634917\n",
       "dtype: float64</td>\n",
       "    </tr>\n",
       "    <tr>\n",
       "      <th>t_0</th>\n",
       "      <td>0</td>\n",
       "    </tr>\n",
       "    <tr>\n",
       "      <th>t_end</th>\n",
       "      <td>182</td>\n",
       "    </tr>\n",
       "    <tr>\n",
       "      <th>G</th>\n",
       "      <td>&lt;scipy.interpolate.interpolate.interp1d object...</td>\n",
       "    </tr>\n",
       "  </tbody>\n",
       "</table>\n",
       "</div>"
      ],
      "text/plain": [
       "k                                                 0.249604\n",
       "gamma                                           0.00374272\n",
       "G_T                                                80.5987\n",
       "init                        I    327.634917\n",
       "dtype: float64\n",
       "t_0                                                      0\n",
       "t_end                                                  182\n",
       "G        <scipy.interpolate.interpolate.interp1d object...\n",
       "dtype: object"
      ]
     },
     "execution_count": 33,
     "metadata": {},
     "output_type": "execute_result"
    }
   ],
   "source": [
    "# Solution\n",
    "\n",
    "system = make_system(best_params, data)"
   ]
  },
  {
   "cell_type": "code",
   "execution_count": 34,
   "metadata": {
    "collapsed": true
   },
   "outputs": [
    {
     "data": {
      "text/html": [
       "<div>\n",
       "<style scoped>\n",
       "    .dataframe tbody tr th:only-of-type {\n",
       "        vertical-align: middle;\n",
       "    }\n",
       "\n",
       "    .dataframe tbody tr th {\n",
       "        vertical-align: top;\n",
       "    }\n",
       "\n",
       "    .dataframe thead th {\n",
       "        text-align: right;\n",
       "    }\n",
       "</style>\n",
       "<table border=\"1\" class=\"dataframe\">\n",
       "  <thead>\n",
       "    <tr style=\"text-align: right;\">\n",
       "      <th></th>\n",
       "      <th>values</th>\n",
       "    </tr>\n",
       "  </thead>\n",
       "  <tbody>\n",
       "    <tr>\n",
       "      <th>sol</th>\n",
       "      <td>None</td>\n",
       "    </tr>\n",
       "    <tr>\n",
       "      <th>t_events</th>\n",
       "      <td>[]</td>\n",
       "    </tr>\n",
       "    <tr>\n",
       "      <th>nfev</th>\n",
       "      <td>320</td>\n",
       "    </tr>\n",
       "    <tr>\n",
       "      <th>njev</th>\n",
       "      <td>0</td>\n",
       "    </tr>\n",
       "    <tr>\n",
       "      <th>nlu</th>\n",
       "      <td>0</td>\n",
       "    </tr>\n",
       "    <tr>\n",
       "      <th>status</th>\n",
       "      <td>0</td>\n",
       "    </tr>\n",
       "    <tr>\n",
       "      <th>message</th>\n",
       "      <td>The solver successfully reached the end of the...</td>\n",
       "    </tr>\n",
       "    <tr>\n",
       "      <th>success</th>\n",
       "      <td>True</td>\n",
       "    </tr>\n",
       "  </tbody>\n",
       "</table>\n",
       "</div>"
      ],
      "text/plain": [
       "sol                                                      None\n",
       "t_events                                                   []\n",
       "nfev                                                      320\n",
       "njev                                                        0\n",
       "nlu                                                         0\n",
       "status                                                      0\n",
       "message     The solver successfully reached the end of the...\n",
       "success                                                  True\n",
       "dtype: object"
      ]
     },
     "execution_count": 34,
     "metadata": {},
     "output_type": "execute_result"
    }
   ],
   "source": [
    "# Solution\n",
    "\n",
    "results, details = run_ode_solver(system, slope_func, t_eval=data.index)\n",
    "details"
   ]
  },
  {
   "cell_type": "code",
   "execution_count": 35,
   "metadata": {},
   "outputs": [
    {
     "data": {
      "image/png": "[encoded data removed]",
      "text/plain": [
       "<Figure size 432x288 with 1 Axes>"
      ]
     },
     "metadata": {},
     "output_type": "display_data"
    }
   ],
   "source": [
    "# Solution\n",
    "\n",
    "plot(results, 'g-', label='simulation')\n",
    "plot(data.insulin, 'go', label='insulin data')\n",
    "\n",
    "decorate(xlabel='Time (min)',\n",
    "         ylabel='Concentration ($\\mu$U/mL)')"
   ]
  },
  {
   "cell_type": "markdown",
   "metadata": {},
   "source": [
    "**Exercise:** Using the best parameters, estimate the sensitivity to glucose of the first and second phase pancreatic responsivity:\n",
    "\n",
    "$ \\phi_1 = \\frac{I_{max} - I_b}{k (G_0 - G_b)} $\n",
    "\n",
    "$ \\phi_2 = \\gamma \\times 10^4 $\n",
    "\n",
    "For $G_0$, use the best estimate from the glucose model, 290.  For $G_b$ and $I_b$, use the inital measurements from the data.\n"
   ]
  },
  {
   "cell_type": "code",
   "execution_count": 36,
   "metadata": {},
   "outputs": [],
   "source": [
    "# Solution\n",
    "\n",
    "I0, k, gamma, G_T = best_params"
   ]
  },
  {
   "cell_type": "code",
   "execution_count": 37,
   "metadata": {},
   "outputs": [
    {
     "data": {
      "text/plain": [
       "(130, 11)"
      ]
     },
     "execution_count": 37,
     "metadata": {},
     "output_type": "execute_result"
    }
   ],
   "source": [
    "# Solution\n",
    "\n",
    "I_max = data.insulin.max()\n",
    "Ib = data.insulin[0]\n",
    "I_max, Ib"
   ]
  },
  {
   "cell_type": "code",
   "execution_count": 38,
   "metadata": {},
   "outputs": [
    {
     "data": {
      "text/plain": [
       "(289, 92)"
      ]
     },
     "execution_count": 38,
     "metadata": {},
     "output_type": "execute_result"
    }
   ],
   "source": [
    "# Solution\n",
    "\n",
    "# The value of G0 is the best estimate from the glucose model\n",
    "G0 = 289\n",
    "Gb = data.glucose[0]\n",
    "G0, Gb"
   ]
  },
  {
   "cell_type": "code",
   "execution_count": 39,
   "metadata": {},
   "outputs": [
    {
     "data": {
      "text/plain": [
       "2.4200817021371024"
      ]
     },
     "execution_count": 39,
     "metadata": {},
     "output_type": "execute_result"
    }
   ],
   "source": [
    "# Solution\n",
    "\n",
    "phi_1 = (I_max - Ib) / k / (G0 - Gb)\n",
    "phi_1"
   ]
  },
  {
   "cell_type": "code",
   "execution_count": 40,
   "metadata": {},
   "outputs": [
    {
     "data": {
      "text/plain": [
       "37.42717987843228"
      ]
     },
     "execution_count": 40,
     "metadata": {},
     "output_type": "execute_result"
    }
   ],
   "source": [
    "# Solution\n",
    "\n",
    "phi_2 = gamma * 1e4\n",
    "phi_2"
   ]
  }
 ],
 "metadata": {
  "kernelspec": {
   "display_name": "Python 3",
   "language": "python",
   "name": "python3"
  },
  "language_info": {
   "codemirror_mode": {
    "name": "ipython",
    "version": 3
   },
   "file_extension": ".py",
   "mimetype": "text/x-python",
   "name": "python",
   "nbconvert_exporter": "python",
   "pygments_lexer": "ipython3",
   "version": "3.6.6"
  }
 },
 "nbformat": 4,
 "nbformat_minor": 2
}
